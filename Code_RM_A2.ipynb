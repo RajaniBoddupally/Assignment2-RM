{
  "nbformat": 4,
  "nbformat_minor": 0,
  "metadata": {
    "colab": {
      "provenance": [],
      "authorship_tag": "ABX9TyPY2OSXRT9iNLHsh6Y8C3FI",
      "include_colab_link": true
    },
    "kernelspec": {
      "name": "python3",
      "display_name": "Python 3"
    },
    "language_info": {
      "name": "python"
    }
  },
  "cells": [
    {
      "cell_type": "markdown",
      "metadata": {
        "id": "view-in-github",
        "colab_type": "text"
      },
      "source": [
        "<a href=\"https://colab.research.google.com/github/RajaniBoddupally/Assignment2-RM/blob/main/Code_RM_A2.ipynb\" target=\"_parent\"><img src=\"https://colab.research.google.com/assets/colab-badge.svg\" alt=\"Open In Colab\"/></a>"
      ]
    },
    {
      "cell_type": "code",
      "execution_count": 4,
      "metadata": {
        "id": "EarFdW8L9knD",
        "colab": {
          "base_uri": "https://localhost:8080/"
        },
        "outputId": "a092720d-f94b-4af4-aaf6-e313bf60a662"
      },
      "outputs": [
        {
          "output_type": "stream",
          "name": "stdout",
          "text": [
            "                                             Comment Emotion\n",
            "0  i seriously hate one subject to death but now ...    fear\n",
            "1                 im so full of life i feel appalled   anger\n",
            "2  i sit here to write i start to dig out my feel...    fear\n",
            "3  ive been really angry with r and i feel like a...     joy\n",
            "4  i feel suspicious if there is no one outside l...    fear\n"
          ]
        }
      ],
      "source": [
        "import pandas as pd\n",
        "# Code to read the csv from github\n",
        "Emotefile = 'https://raw.githubusercontent.com/RajaniBoddupally/Assignment2-RM/refs/heads/main/Emotion_classify_Data.csv'\n",
        "Emotefile_Data = pd.read_csv(Emotefile)\n",
        "# Printing the first 5 rows of the data\n",
        "print(Emotefile_Data.head())\n"
      ]
    }
  ]
}